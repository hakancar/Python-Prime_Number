{
  "nbformat": 4,
  "nbformat_minor": 0,
  "metadata": {
    "colab": {
      "name": "Assignment-Prime_Number.ipynb",
      "provenance": [],
      "authorship_tag": "ABX9TyMUUL/7Jzr2UmOOwgKP5fgh",
      "include_colab_link": true
    },
    "kernelspec": {
      "name": "python3",
      "display_name": "Python 3"
    },
    "language_info": {
      "name": "python"
    }
  },
  "cells": [
    {
      "cell_type": "markdown",
      "metadata": {
        "id": "view-in-github",
        "colab_type": "text"
      },
      "source": [
        "<a href=\"https://colab.research.google.com/github/hakancar/Python-Prime_Number/blob/main/Assignment_Prime_Number.ipynb\" target=\"_parent\"><img src=\"https://colab.research.google.com/assets/colab-badge.svg\" alt=\"Open In Colab\"/></a>"
      ]
    },
    {
      "cell_type": "code",
      "metadata": {
        "colab": {
          "base_uri": "https://localhost:8080/"
        },
        "id": "XZ4QAmSUbN1L",
        "outputId": "58e59ae0-a260-4479-f2d7-ef188ab449dc"
      },
      "source": [
        "number = int(input(\"please enter a number: \"))\n",
        "balance = []\n",
        "for i in range(2, number):\n",
        "  balance.append(number % i)\n",
        "if 0 in balance:\n",
        "  print(\"Your number is NOT PRIME\")\n",
        "else:\n",
        "  print(\"Your number is PRIME\")"
      ],
      "execution_count": 1,
      "outputs": [
        {
          "output_type": "stream",
          "text": [
            "please enter a number: 97\n",
            "Your number is PRIME\n"
          ],
          "name": "stdout"
        }
      ]
    }
  ]
}